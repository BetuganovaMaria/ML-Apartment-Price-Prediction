{
  "nbformat": 4,
  "nbformat_minor": 0,
  "metadata": {
    "colab": {
      "provenance": []
    },
    "kernelspec": {
      "name": "python3",
      "display_name": "Python 3"
    },
    "language_info": {
      "name": "python"
    }
  },
  "cells": [
    {
      "cell_type": "markdown",
      "source": [
        "# Predicting flat prices\n",
        "This project can be used for apartment price prediction based on a set of parameters by choosing the best model from the following:\n",
        "- LinearRegression;\n",
        "- DecisionTreeRegressor;\n",
        "- RandomForestRegressor;\n",
        "- GradientBoostingRegressor;\n",
        "- CatBoostRegressor;\n",
        "- XGBRegressor.\n",
        "\n",
        "INPUT: LandContour, GarageYrBlt, BsmtFullBath, 1stFlrSF, BsmtFinSF1, TotRmsAbvGrd, ExterQual, OpenPorchSF, Heating, Condition2, OverallQual, GarageCars, KitchenQual, GrLivArea, 2ndFlrSF, CentralAir, BsmtQual, TotalBsmtSF, Fireplaces.\n",
        "\n",
        "OUTPUT: SalePrice"
      ],
      "metadata": {
        "id": "SnCIBLV-URHs"
      }
    },
    {
      "cell_type": "code",
      "source": [
        "!pip install catboost\n",
        "!pip install xgboost"
      ],
      "metadata": {
        "id": "QBVrT2g8WeYR",
        "collapsed": true,
        "colab": {
          "base_uri": "https://localhost:8080/"
        },
        "outputId": "e4fb65f5-4cfe-4332-f906-995c4391698f"
      },
      "execution_count": null,
      "outputs": [
        {
          "output_type": "stream",
          "name": "stdout",
          "text": [
            "Requirement already satisfied: catboost in /usr/local/lib/python3.10/dist-packages (1.2.5)\n",
            "Requirement already satisfied: graphviz in /usr/local/lib/python3.10/dist-packages (from catboost) (0.20.3)\n",
            "Requirement already satisfied: matplotlib in /usr/local/lib/python3.10/dist-packages (from catboost) (3.7.1)\n",
            "Requirement already satisfied: numpy>=1.16.0 in /usr/local/lib/python3.10/dist-packages (from catboost) (1.25.2)\n",
            "Requirement already satisfied: pandas>=0.24 in /usr/local/lib/python3.10/dist-packages (from catboost) (2.0.3)\n",
            "Requirement already satisfied: scipy in /usr/local/lib/python3.10/dist-packages (from catboost) (1.11.4)\n",
            "Requirement already satisfied: plotly in /usr/local/lib/python3.10/dist-packages (from catboost) (5.15.0)\n",
            "Requirement already satisfied: six in /usr/local/lib/python3.10/dist-packages (from catboost) (1.16.0)\n",
            "Requirement already satisfied: python-dateutil>=2.8.2 in /usr/local/lib/python3.10/dist-packages (from pandas>=0.24->catboost) (2.8.2)\n",
            "Requirement already satisfied: pytz>=2020.1 in /usr/local/lib/python3.10/dist-packages (from pandas>=0.24->catboost) (2023.4)\n",
            "Requirement already satisfied: tzdata>=2022.1 in /usr/local/lib/python3.10/dist-packages (from pandas>=0.24->catboost) (2024.1)\n",
            "Requirement already satisfied: contourpy>=1.0.1 in /usr/local/lib/python3.10/dist-packages (from matplotlib->catboost) (1.2.1)\n",
            "Requirement already satisfied: cycler>=0.10 in /usr/local/lib/python3.10/dist-packages (from matplotlib->catboost) (0.12.1)\n",
            "Requirement already satisfied: fonttools>=4.22.0 in /usr/local/lib/python3.10/dist-packages (from matplotlib->catboost) (4.51.0)\n",
            "Requirement already satisfied: kiwisolver>=1.0.1 in /usr/local/lib/python3.10/dist-packages (from matplotlib->catboost) (1.4.5)\n",
            "Requirement already satisfied: packaging>=20.0 in /usr/local/lib/python3.10/dist-packages (from matplotlib->catboost) (24.0)\n",
            "Requirement already satisfied: pillow>=6.2.0 in /usr/local/lib/python3.10/dist-packages (from matplotlib->catboost) (9.4.0)\n",
            "Requirement already satisfied: pyparsing>=2.3.1 in /usr/local/lib/python3.10/dist-packages (from matplotlib->catboost) (3.1.2)\n",
            "Requirement already satisfied: tenacity>=6.2.0 in /usr/local/lib/python3.10/dist-packages (from plotly->catboost) (8.3.0)\n",
            "Requirement already satisfied: xgboost in /usr/local/lib/python3.10/dist-packages (2.0.3)\n",
            "Requirement already satisfied: numpy in /usr/local/lib/python3.10/dist-packages (from xgboost) (1.25.2)\n",
            "Requirement already satisfied: scipy in /usr/local/lib/python3.10/dist-packages (from xgboost) (1.11.4)\n"
          ]
        }
      ]
    },
    {
      "cell_type": "markdown",
      "source": [
        "# Libraries"
      ],
      "metadata": {
        "id": "LQwJfKjnWFty"
      }
    },
    {
      "cell_type": "code",
      "source": [
        "import matplotlib.pyplot as plt\n",
        "import numpy as np\n",
        "import pandas as pd\n",
        "from pandas import read_csv, DataFrame\n",
        "from sklearn.linear_model import LinearRegression\n",
        "from sklearn.tree import DecisionTreeRegressor\n",
        "from sklearn.ensemble import RandomForestRegressor, GradientBoostingRegressor\n",
        "from sklearn.model_selection import cross_val_score\n",
        "from xgboost import XGBRegressor\n",
        "from catboost import CatBoostRegressor"
      ],
      "metadata": {
        "id": "CS-DiLDiUVBT"
      },
      "execution_count": null,
      "outputs": []
    },
    {
      "cell_type": "markdown",
      "source": [
        "# Dataset preprocessing\n"
      ],
      "metadata": {
        "id": "uaXpD-KGUUoD"
      }
    },
    {
      "cell_type": "markdown",
      "source": [
        "## Constants"
      ],
      "metadata": {
        "id": "lYypUdUZLTte"
      }
    },
    {
      "cell_type": "code",
      "source": [
        "LAND_CONTOUR_TYPES = {'Lvl': 1,\n",
        "                      'Bnk': 2,\n",
        "                      'HLS': 3,\n",
        "                      'Low': 4}\n",
        "\n",
        "EXTER_QUAL_TYPES = {'Ex': 1,\n",
        "                    'Gd': 2,\n",
        "                    'TA': 3,\n",
        "                    'Fa': 4,\n",
        "                    'Po': 5}\n",
        "\n",
        "HEATING_TYPES = {'Floor': 1,\n",
        "                 'GasA': 2,\n",
        "                 'GasW': 3,\n",
        "                 'Grav': 4,\n",
        "                 'OthW': 5,\n",
        "                 'Wall': 6}\n",
        "\n",
        "CONDITION_2_TYPES = {'Artery': 1,\n",
        "                     'Feedr': 2,\n",
        "                     'Norm': 3,\n",
        "                     'RRNn': 4,\n",
        "                     'RRAn': 5,\n",
        "                     'PosN': 6,\n",
        "                     'PosA': 7,\n",
        "                     'RRNe': 8,\n",
        "                     'RRAe': 9}\n",
        "\n",
        "KITCHEN_QUAL_TYPES = {'Ex': 1,\n",
        "                      'Gd': 2,\n",
        "                      'TA': 3,\n",
        "                      'Fa': 4,\n",
        "                      'Po': 5}\n",
        "\n",
        "CENTRAL_AIR_TYPES = {'N': 1,\n",
        "                     'Y': 2}\n",
        "\n",
        "BSMT_QUAL_TYPES = {'Ex': 1,\n",
        "                   'Gd': 2,\n",
        "                   'TA': 3,\n",
        "                   'Fa': 4,\n",
        "                   'Po': 5,\n",
        "                   'NA': 6}\n",
        "\n",
        "LAND_CONTOUR_KEY = 'LandContour'\n",
        "GARAGE_YR_BLT_KEY = 'GarageYrBlt'\n",
        "FULL_BATH_KEY = 'FullBath'\n",
        "FIRST_FLR_SF_KEY = '1stFlrSF'\n",
        "BSMT_FIN_SF_1_KEY = 'BsmtFinSF1'\n",
        "TOT_RMS_ABV_GRD_KEY = 'TotRmsAbvGrd'\n",
        "EXTER_QUAL_KEY = 'ExterQual'\n",
        "OPEN_PORCH_SF_KEY = 'OpenPorchSF'\n",
        "HEATING_KEY = 'Heating'\n",
        "CONDITION_2_KEY = 'Condition2'\n",
        "OVERALL_QUAL_KEY = 'OverallQual'\n",
        "GARAGE_CARS_KEY = 'GarageCars'\n",
        "KITCHEN_QUAL_KEY = 'KitchenQual'\n",
        "KITCHEN_ABV_GR_KEY = 'KitchenAbvGr'\n",
        "GR_LIV_AREA_KEY = 'GrLivArea'\n",
        "SECOND_FLR_SF_KEY = '2ndFlrSF'\n",
        "CENTRAL_AIR_KEY = 'CentralAir'\n",
        "BSMT_QUAL_KEY = 'BsmtQual'\n",
        "TOTAL_BSMT_SF_KEY = 'TotalBsmtSF'\n",
        "FIREPLACES_KEY = 'Fireplaces'\n",
        "\n",
        "SALE_PRICE_KEY = 'SalePrice'\n",
        "ID_KEY = 'Id'\n",
        "\n",
        "MODEL_KEY = 'Model'\n",
        "R2_KEY = 'R2'\n"
      ],
      "metadata": {
        "id": "B2jHVF4ILWCL"
      },
      "execution_count": null,
      "outputs": []
    },
    {
      "cell_type": "markdown",
      "source": [
        "## File creating functions\n"
      ],
      "metadata": {
        "id": "GcsN6wd2L-0j"
      }
    },
    {
      "cell_type": "code",
      "source": [
        "def create_formatted_file(df, filename):\n",
        "    df.to_csv(f'/content/{filename}', index=False, encoding='utf-8')\n",
        "\n",
        "\n",
        "def create_result_file(df):\n",
        "    df.to_csv(f'/content/result.csv', index=False, encoding='utf-8')"
      ],
      "metadata": {
        "id": "yMd6ws1DMHej"
      },
      "execution_count": null,
      "outputs": []
    },
    {
      "cell_type": "markdown",
      "source": [
        "## Data types formatting"
      ],
      "metadata": {
        "id": "0bQI8n_gNlJc"
      }
    },
    {
      "cell_type": "markdown",
      "source": [
        "Data types formatting for not number types:"
      ],
      "metadata": {
        "id": "lhd49ReWNp8h"
      }
    },
    {
      "cell_type": "code",
      "source": [
        "def format_data_types(df):\n",
        "    # filling empty fields\n",
        "    for column in [LAND_CONTOUR_KEY, GARAGE_YR_BLT_KEY, FULL_BATH_KEY, TOT_RMS_ABV_GRD_KEY,\n",
        "                   EXTER_QUAL_KEY, HEATING_KEY, CONDITION_2_KEY, GARAGE_CARS_KEY, KITCHEN_ABV_GR_KEY,\n",
        "                   OVERALL_QUAL_KEY, KITCHEN_QUAL_KEY, CENTRAL_AIR_KEY, BSMT_QUAL_KEY, FIREPLACES_KEY]:\n",
        "        df.loc[:, column] = df[column].fillna(df[column].mode()[0])\n",
        "\n",
        "    for column in [FIRST_FLR_SF_KEY, BSMT_FIN_SF_1_KEY, OPEN_PORCH_SF_KEY,\n",
        "                   GR_LIV_AREA_KEY, SECOND_FLR_SF_KEY, TOTAL_BSMT_SF_KEY]:\n",
        "        df.loc[:, column] = df[column].fillna(df[column].mean())\n",
        "\n",
        "    # data types processing\n",
        "    df.loc[:, LAND_CONTOUR_KEY] = df[LAND_CONTOUR_KEY].map(LAND_CONTOUR_TYPES)\n",
        "    df.loc[:, EXTER_QUAL_KEY] = df[EXTER_QUAL_KEY].map(EXTER_QUAL_TYPES)\n",
        "    df.loc[:, HEATING_KEY] = df[HEATING_KEY].map(HEATING_TYPES)\n",
        "    df.loc[:, CONDITION_2_KEY] = df[CONDITION_2_KEY].map(CONDITION_2_TYPES)\n",
        "    df.loc[:, KITCHEN_QUAL_KEY] = df[KITCHEN_QUAL_KEY].map(KITCHEN_QUAL_TYPES)\n",
        "    df.loc[:, CENTRAL_AIR_KEY] = df[CENTRAL_AIR_KEY].map(CENTRAL_AIR_TYPES)\n",
        "    df.loc[:, BSMT_QUAL_KEY] = df[BSMT_QUAL_KEY].map(BSMT_QUAL_TYPES)\n",
        "\n",
        "    return df"
      ],
      "metadata": {
        "id": "NOmzcRiMNoUX"
      },
      "execution_count": null,
      "outputs": []
    },
    {
      "cell_type": "markdown",
      "source": [
        "## Correlation coefficients"
      ],
      "metadata": {
        "id": "IlqTtJamKrBO"
      }
    },
    {
      "cell_type": "markdown",
      "source": [
        "Calculating correlation coefficients in order to remove the columns that are the most dependent on each other."
      ],
      "metadata": {
        "id": "j7qWDB0sLfuC"
      }
    },
    {
      "cell_type": "code",
      "source": [
        "MAX_ACCEPTABLE_CORR = 0.8\n",
        "\n",
        "\n",
        "def check_corr_emptiness(corr_coefficients):\n",
        "    print('Corr Emptiness Check:')\n",
        "    field_drop = [i for i in corr_coefficients if corr_coefficients[i].isnull().drop_duplicates().values[0]]\n",
        "    print('\\t', field_drop)\n",
        "\n",
        "\n",
        "def check_corr_coefficients(corr_coefficients):\n",
        "    print('Corr Coefficients Check:')\n",
        "    for column in corr_coefficients:\n",
        "        for row in corr_coefficients.index[corr_coefficients[column] > MAX_ACCEPTABLE_CORR]:\n",
        "            if column != row:\n",
        "                print('\\t', column, \" -> \", row, \": r^2 = \",\n",
        "                      corr_coefficients[column][corr_coefficients.index == row].values[0])"
      ],
      "metadata": {
        "id": "0xtNdg_KTdjX"
      },
      "execution_count": null,
      "outputs": []
    },
    {
      "cell_type": "markdown",
      "source": [
        "When formatting the files while calculating the correlation coefficients, we learn the following:\n",
        "\n",
        "    1stFlrSF  ->  TotalBsmtSF : r^2 =  0.8195299750050338\n",
        "    TotRmsAbvGrd  ->  GrLivArea : r^2 =  0.8254893743088426\n",
        "    GrLivArea  ->  TotRmsAbvGrd : r^2 =  0.8254893743088426\n",
        "    TotalBsmtSF  ->  1stFlrSF : r^2 =  0.8195299750050338\n",
        "\n",
        "Therefore, the following columns will be deleted:\n",
        "\n",
        "    GR_LIV_AREA_KEY\n",
        "    FIRST_FLR_SF_KEY"
      ],
      "metadata": {
        "id": "SSrHnYaaMQB8"
      }
    },
    {
      "cell_type": "markdown",
      "source": [
        "## Files formatting"
      ],
      "metadata": {
        "id": "mCxnSyXYK4cp"
      }
    },
    {
      "cell_type": "code",
      "source": [
        "def format_file(filename):\n",
        "    dataset = read_csv(f'/content/{filename}')\n",
        "\n",
        "    dataset = format_data_types(dataset)\n",
        "\n",
        "    corr_coefficients = dataset.corr()\n",
        "    check_corr_emptiness(corr_coefficients)\n",
        "    check_corr_coefficients(corr_coefficients)\n",
        "\n",
        "    corr_fields = [GR_LIV_AREA_KEY, FIRST_FLR_SF_KEY]\n",
        "    new_dataset = dataset.drop(corr_fields, axis=1)\n",
        "\n",
        "    create_formatted_file(new_dataset, f'formatted_{filename}')"
      ],
      "metadata": {
        "id": "Ej-uIyAMKodI"
      },
      "execution_count": null,
      "outputs": []
    },
    {
      "cell_type": "markdown",
      "source": [
        "This function creates formatted file with replaced data types and deleted columns that were choosed by correlation coefficients calculating. We use it for ```train.csv``` and ```test_with_results.csv``` formatting."
      ],
      "metadata": {
        "id": "c27A0Q7JNNRU"
      }
    },
    {
      "cell_type": "markdown",
      "source": [
        "# Models comparing and information\n",
        "\n",
        "\n",
        "\n",
        "\n"
      ],
      "metadata": {
        "id": "aL8LjOo-OqzA"
      }
    },
    {
      "cell_type": "markdown",
      "source": [
        "## Models comparison"
      ],
      "metadata": {
        "id": "Kc_0kPFiSqX_"
      }
    },
    {
      "cell_type": "markdown",
      "source": [
        "Model comparison using RMSE in order to choose the best one for apartment price prediction.\n"
      ],
      "metadata": {
        "id": "FbU3HGInOthw"
      }
    },
    {
      "cell_type": "code",
      "source": [
        "def compare_models(x_train, y_train):\n",
        "    models = [LinearRegression(),\n",
        "              DecisionTreeRegressor(),\n",
        "              RandomForestRegressor(),\n",
        "              GradientBoostingRegressor(),\n",
        "              CatBoostRegressor(verbose=False),\n",
        "              XGBRegressor(objective='reg:squarederror'),\n",
        "              ]\n",
        "    model_names = ['LinearRegression',\n",
        "                   'DecisionTreeRegressor',\n",
        "                   'RandomForestRegressor',\n",
        "                   'GradientBoostingRegressor',\n",
        "                   'CatBoostRegressor',\n",
        "                   'XGBRegressor'\n",
        "                   ]\n",
        "    print('MSE:')\n",
        "    for i in range(len(models)):\n",
        "        model = models[i]\n",
        "        model_name = model_names[i]\n",
        "        rmse = np.mean(np.sqrt(-cross_val_score(model, x_train, y_train.values.ravel(),\n",
        "                                                cv=5, scoring=\"neg_mean_squared_error\")))\n",
        "        print('\\t', model_name, round(rmse, 4))"
      ],
      "metadata": {
        "id": "WNIiwKTCPM1T"
      },
      "execution_count": null,
      "outputs": []
    },
    {
      "cell_type": "markdown",
      "source": [
        "\n",
        "    LinearRegression  36492.6932\n",
        "    DecisionTreeRegressor  43780.7469\n",
        "    RandomForestRegressor  31252.2144\n",
        "    GradientBoostingRegressor  31285.3437\n",
        "    CatBoostRegressor  30275.6273\n",
        "    XGBRegressor  31789.3788"
      ],
      "metadata": {
        "id": "1wt1bdxaSNa5"
      }
    },
    {
      "cell_type": "markdown",
      "source": [
        "## Feature importances\n"
      ],
      "metadata": {
        "id": "XtSe9iD2SiJv"
      }
    },
    {
      "cell_type": "markdown",
      "source": [
        "Function to find out the importance of each parameter."
      ],
      "metadata": {
        "id": "JX1Fq_XbPWNM"
      }
    },
    {
      "cell_type": "code",
      "source": [
        "def print_feature_importances(column_keys, model):\n",
        "    print('Feature importances:')\n",
        "    feature_importances = model.feature_importances_\n",
        "    for i in range(len(feature_importances)):\n",
        "        print('\\t', round(feature_importances[i], 3), column_keys[i])"
      ],
      "metadata": {
        "id": "UyWs1PhXPi_V"
      },
      "execution_count": null,
      "outputs": []
    },
    {
      "cell_type": "markdown",
      "source": [
        "    1.832 LandContour\n",
        "    3.826 GarageYrBlt\n",
        "    4.336 FullBath\n",
        "    9.033 BsmtFinSF1\n",
        "    6.325 TotRmsAbvGrd\n",
        "    2.576 ExterQual\n",
        "    4.266 OpenPorchSF\n",
        "    0.071 Heating\n",
        "    0.341 Condition2\n",
        "    21.776 OverallQual\n",
        "    7.641 GarageCars\n",
        "    4.928 KitchenQual\n",
        "    0.749 KitchenAbvGr\n",
        "    8.67 2ndFlrSF\n",
        "    1.161 CentralAir\n",
        "    2.605 BsmtQual\n",
        "    14.639 TotalBsmtSF\n",
        "    5.223 Fireplaces"
      ],
      "metadata": {
        "id": "qzqgncMTSTvA"
      }
    },
    {
      "cell_type": "markdown",
      "source": [
        "# Program"
      ],
      "metadata": {
        "id": "OyHccjB_QD3N"
      }
    },
    {
      "cell_type": "code",
      "source": [
        "# Data preparing\n",
        "format_file('train.csv')\n",
        "format_file('test_with_results.csv')\n",
        "\n",
        "train_dataset = read_csv('formatted_train.csv')\n",
        "test_dataset = read_csv('formatted_test_with_results.csv')\n",
        "column_keys = train_dataset.columns.tolist()\n",
        "\n",
        "y_train = train_dataset[[SALE_PRICE_KEY]]\n",
        "x_train = train_dataset.drop([SALE_PRICE_KEY], axis=1)\n",
        "\n",
        "y_test = test_dataset[[SALE_PRICE_KEY]]\n",
        "x_test = test_dataset.drop([SALE_PRICE_KEY, ID_KEY], axis=1)\n",
        "\n",
        "# Models comparison\n",
        "compare_models(x_train, y_train)\n",
        "\n",
        "# CatBoostRegressor prediction\n",
        "model = CatBoostRegressor(verbose=False)\n",
        "model = model.fit(x_train, y_train.values.ravel())\n",
        "\n",
        "y_pred = model.predict(x_test)\n",
        "rmse = np.mean(np.sqrt(-cross_val_score(model, x_test, y_test.values.ravel(), cv=5, scoring=\"neg_mean_squared_error\")))\n",
        "print(f'RMSE CatBoostRegressor: {rmse}')\n",
        "\n",
        "print_feature_importances(column_keys, model)\n",
        "\n",
        "# Saving results\n",
        "result_dataset = DataFrame({ID_KEY: test_dataset[[ID_KEY]].values.ravel(),\n",
        "                            SALE_PRICE_KEY: y_pred})\n",
        "create_result_file(result_dataset)\n",
        "\n",
        "# Graph for comparing results\n",
        "plt.figure()\n",
        "plt.scatter(test_dataset[[ID_KEY]].values.ravel(), y_test, s=7, label=\"y_test\")\n",
        "plt.scatter(test_dataset[[ID_KEY]].values.ravel(), y_pred, s=7, label=\"y_pred\")\n",
        "plt.legend()\n",
        "plt.show()"
      ],
      "metadata": {
        "colab": {
          "base_uri": "https://localhost:8080/",
          "height": 1000
        },
        "id": "jqdxJAYaQGjk",
        "outputId": "cc2882ba-722e-43e3-f256-7be5b604ba9d"
      },
      "execution_count": null,
      "outputs": [
        {
          "output_type": "stream",
          "name": "stdout",
          "text": [
            "Corr Emptiness Check:\n",
            "\t []\n",
            "Corr Coefficients Check:\n",
            "\t 1stFlrSF  ->  TotalBsmtSF : r^2 =  0.8195299750050338\n",
            "\t TotRmsAbvGrd  ->  GrLivArea : r^2 =  0.8254893743088426\n",
            "\t GrLivArea  ->  TotRmsAbvGrd : r^2 =  0.8254893743088426\n",
            "\t TotalBsmtSF  ->  1stFlrSF : r^2 =  0.8195299750050338\n",
            "Corr Emptiness Check:\n",
            "\t []\n",
            "Corr Coefficients Check:\n",
            "MSE:\n",
            "\t LinearRegression 36492.6932\n",
            "\t DecisionTreeRegressor 42096.2039\n",
            "\t RandomForestRegressor 31621.9515\n",
            "\t GradientBoostingRegressor 31200.5127\n",
            "\t CatBoostRegressor 30275.6273\n",
            "\t XGBRegressor 31789.3788\n",
            "RMSE CatBoostRegressor: 11956.068715587147\n",
            "Feature importances:\n",
            "\t 1.832 LandContour\n",
            "\t 3.826 GarageYrBlt\n",
            "\t 4.336 FullBath\n",
            "\t 9.033 BsmtFinSF1\n",
            "\t 6.325 TotRmsAbvGrd\n",
            "\t 2.576 ExterQual\n",
            "\t 4.266 OpenPorchSF\n",
            "\t 0.071 Heating\n",
            "\t 0.341 Condition2\n",
            "\t 21.776 OverallQual\n",
            "\t 7.641 GarageCars\n",
            "\t 4.928 KitchenQual\n",
            "\t 0.749 KitchenAbvGr\n",
            "\t 8.67 2ndFlrSF\n",
            "\t 1.161 CentralAir\n",
            "\t 2.605 BsmtQual\n",
            "\t 14.639 TotalBsmtSF\n",
            "\t 5.223 Fireplaces\n"
          ]
        },
        {
          "output_type": "display_data",
          "data": {
            "text/plain": [
              "<Figure size 640x480 with 1 Axes>"
            ],
            "image/png": "[encoded data removed]"
          },
          "metadata": {}
        }
      ]
    }
  ]
}